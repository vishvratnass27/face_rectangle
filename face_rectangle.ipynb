{
 "cells": [
  {
   "cell_type": "code",
   "execution_count": 39,
   "id": "d9194564",
   "metadata": {},
   "outputs": [],
   "source": [
    "import cv2\n",
    "import matplotlib.pyplot as plt\n",
    "import numpy"
   ]
  },
  {
   "cell_type": "code",
   "execution_count": 48,
   "id": "774fc6d8",
   "metadata": {},
   "outputs": [],
   "source": [
    "cap = cv2.VideoCapture(0)"
   ]
  },
  {
   "cell_type": "code",
   "execution_count": 49,
   "id": "513bee0c",
   "metadata": {},
   "outputs": [],
   "source": [
    "photo=cap.read()"
   ]
  },
  {
   "cell_type": "code",
   "execution_count": 50,
   "id": "3e991bb6",
   "metadata": {},
   "outputs": [],
   "source": [
    "while True:\n",
    "    status,photo=cap.read()\n",
    "    photo[:,:,1:3] = 120  # only change the value of zero filter change\n",
    "    cv2.imshow(\"my_photo\",photo)\n",
    "    if cv2.waitKey(50) ==13:\n",
    "        break\n",
    "cv2.destroyAllWindows()"
   ]
  },
  {
   "cell_type": "code",
   "execution_count": null,
   "id": "da19cab3",
   "metadata": {},
   "outputs": [],
   "source": [
    "while True:\n",
    "    status,photo=cap.read()\n",
    "    photo[0:250,0:230]=photo[100:350,220:450,0:2]\n",
    "    cv2.imshow(\"my_photo\",photo)\n",
    "    if cv2.waitKey(50) ==13:\n",
    "        break\n",
    "cv2.destroyAllWindows()"
   ]
  },
  {
   "cell_type": "code",
   "execution_count": 51,
   "id": "f0056d2f",
   "metadata": {},
   "outputs": [],
   "source": [
    "cap.release()"
   ]
  },
  {
   "cell_type": "code",
   "execution_count": 17,
   "id": "815cc088",
   "metadata": {},
   "outputs": [],
   "source": [
    "\n",
    "import cv2\n",
    "import matplotlib.pyplot as plt\n",
    "import numpy\n"
   ]
  },
  {
   "cell_type": "code",
   "execution_count": 18,
   "id": "937fc34e",
   "metadata": {},
   "outputs": [],
   "source": [
    "cap = cv2.VideoCapture(0)"
   ]
  },
  {
   "cell_type": "code",
   "execution_count": 19,
   "id": "4e37e779",
   "metadata": {},
   "outputs": [],
   "source": [
    "ret, frame = cap.read()"
   ]
  },
  {
   "cell_type": "code",
   "execution_count": 20,
   "id": "b41615b9",
   "metadata": {},
   "outputs": [],
   "source": [
    "\n",
    "#cv2.imshow(\"my_photo\", frame)\n",
    "#cv2.waitKey()\n",
    "#cv2.destroyAllWindows()\n",
    "\n",
    "\n",
    "# Now you can use the 'facemodel' to detect faces in the 'frame' or any other image\n"
   ]
  },
  {
   "cell_type": "code",
   "execution_count": 5,
   "id": "18b431e2",
   "metadata": {},
   "outputs": [],
   "source": [
    "#vishva=cv2.imread(\"vishva02.png\")"
   ]
  },
  {
   "cell_type": "code",
   "execution_count": 6,
   "id": "182d8dab",
   "metadata": {},
   "outputs": [],
   "source": [
    "#vishva"
   ]
  },
  {
   "cell_type": "code",
   "execution_count": 21,
   "id": "586d7958",
   "metadata": {},
   "outputs": [],
   "source": [
    "facemodel=cv2.CascadeClassifier(\"myhaarcascade_frontalface_default.xml\")"
   ]
  },
  {
   "cell_type": "code",
   "execution_count": 22,
   "id": "a2f300b1",
   "metadata": {},
   "outputs": [],
   "source": [
    "myface=facemodel.detectMultiScale(frame)"
   ]
  },
  {
   "cell_type": "code",
   "execution_count": 23,
   "id": "4061652b",
   "metadata": {},
   "outputs": [
    {
     "data": {
      "text/plain": [
       "1"
      ]
     },
     "execution_count": 23,
     "metadata": {},
     "output_type": "execute_result"
    }
   ],
   "source": [
    "\n",
    "len(facemodel.detectMultiScale(frame))"
   ]
  },
  {
   "cell_type": "code",
   "execution_count": 24,
   "id": "e337dd20",
   "metadata": {},
   "outputs": [],
   "source": [
    "#cv2.rectangle(frame,(100,200),(300,500),[0,255,0],5)"
   ]
  },
  {
   "cell_type": "code",
   "execution_count": 25,
   "id": "f6f5e77b",
   "metadata": {},
   "outputs": [
    {
     "data": {
      "text/plain": [
       "array([[[123, 118,  59],\n",
       "        [126, 123,  64],\n",
       "        [123, 123,  64],\n",
       "        ...,\n",
       "        [141, 134, 110],\n",
       "        [141, 132, 110],\n",
       "        [141, 132, 110]],\n",
       "\n",
       "       [[123, 118,  59],\n",
       "        [124, 121,  62],\n",
       "        [124, 122,  63],\n",
       "        ...,\n",
       "        [139, 135, 107],\n",
       "        [140, 135, 108],\n",
       "        [140, 135, 108]],\n",
       "\n",
       "       [[125, 117,  61],\n",
       "        [125, 119,  61],\n",
       "        [124, 119,  61],\n",
       "        ...,\n",
       "        [140, 137, 106],\n",
       "        [140, 135, 106],\n",
       "        [140, 135, 106]],\n",
       "\n",
       "       ...,\n",
       "\n",
       "       [[ 65, 112, 105],\n",
       "        [ 54, 109, 107],\n",
       "        [ 39, 104, 107],\n",
       "        ...,\n",
       "        [ 99,  94,  54],\n",
       "        [ 98,  93,  53],\n",
       "        [ 98,  93,  53]],\n",
       "\n",
       "       [[ 46, 110, 108],\n",
       "        [ 39, 107, 108],\n",
       "        [ 28, 102, 107],\n",
       "        ...,\n",
       "        [100,  96,  55],\n",
       "        [ 99,  94,  54],\n",
       "        [ 99,  94,  54]],\n",
       "\n",
       "       [[ 31, 108, 108],\n",
       "        [ 27, 107, 108],\n",
       "        [ 20, 103, 107],\n",
       "        ...,\n",
       "        [102,  96,  57],\n",
       "        [100,  96,  55],\n",
       "        [100,  96,  55]]], dtype=uint8)"
      ]
     },
     "execution_count": 25,
     "metadata": {},
     "output_type": "execute_result"
    }
   ],
   "source": [
    "x1=myface[0][0]\n",
    "y1=myface[0][1]\n",
    "x2=myface[0][0] + myface[0][2]\n",
    "y2=myface[0][1] + myface[0][3]\n",
    "cv2.rectangle(frame,(x1,y1),(x2,y2),[0,255,0],5)\n"
   ]
  },
  {
   "cell_type": "code",
   "execution_count": 26,
   "id": "87d9621b",
   "metadata": {},
   "outputs": [],
   "source": [
    "cv2.imshow(\"my_photo\", frame)\n",
    "cv2.waitKey()\n",
    "cv2.destroyAllWindows()\n",
    "\n"
   ]
  },
  {
   "cell_type": "code",
   "execution_count": 27,
   "id": "d26fa884",
   "metadata": {},
   "outputs": [],
   "source": [
    "cap.release()"
   ]
  },
  {
   "cell_type": "code",
   "execution_count": 36,
   "id": "b37f8efc",
   "metadata": {},
   "outputs": [],
   "source": [
    "import cv2\n",
    "import matplotlib.pyplot as plt    #for image\n",
    "import numpy\n",
    "\n",
    "cap = cv2.VideoCapture(0)\n",
    "ret, frame = cap.read()\n",
    "facemodel=cv2.CascadeClassifier(\"myhaarcascade_frontalface_default.xml\")\n",
    "myface=facemodel.detectMultiScale(frame)\n",
    "len(facemodel.detectMultiScale(frame))\n",
    "x1=myface[0][0]\n",
    "y1=myface[0][1]\n",
    "x2=myface[0][0] + myface[0][2]\n",
    "y2=myface[0][1] + myface[0][3]\n",
    "cv2.rectangle(frame,(x1,y1),(x2,y2),[0,255,0],5)\n",
    "\n",
    "cv2.imshow(\"my_photo\", frame)\n",
    "cv2.waitKey()\n",
    "cv2.destroyAllWindows()\n",
    "cap.release()"
   ]
  },
  {
   "cell_type": "code",
   "execution_count": 1,
   "id": "c03ae5bb",
   "metadata": {},
   "outputs": [],
   "source": [
    "import cv2\n",
    "import matplotlib.pyplot as plt\n",
    "import numpy                             #for video\n",
    "\n",
    "cap = cv2.VideoCapture(0)\n",
    "\n",
    "while True:\n",
    "    ret, frame = cap.read()\n",
    "    \n",
    "    facemodel=cv2.CascadeClassifier(\"myhaarcascade_frontalface_default.xml\")\n",
    "    myface=facemodel.detectMultiScale(frame)\n",
    "    \n",
    "    if len(myface)==1:\n",
    "        x1=myface[0][0]\n",
    "        y1=myface[0][1]\n",
    "        x2=myface[0][0] + myface[0][2]\n",
    "        y2=myface[0][1] + myface[0][3]\n",
    "        cv2.rectangle(frame,(x1,y1),(x2,y2),[0,255,0],5)\n",
    "    \n",
    "    cv2.imshow(\"my_photo\", frame)\n",
    "    if cv2.waitKey(10) == 13:\n",
    "        break\n",
    "\n",
    "cv2.destroyAllWindows()\n",
    "cap.release()     "
   ]
  },
  {
   "cell_type": "code",
   "execution_count": null,
   "id": "cc1f8fd7",
   "metadata": {},
   "outputs": [],
   "source": []
  },
  {
   "cell_type": "code",
   "execution_count": null,
   "id": "2b9c4a43",
   "metadata": {},
   "outputs": [],
   "source": []
  }
 ],
 "metadata": {
  "kernelspec": {
   "display_name": "Python 3 (ipykernel)",
   "language": "python",
   "name": "python3"
  },
  "language_info": {
   "codemirror_mode": {
    "name": "ipython",
    "version": 3
   },
   "file_extension": ".py",
   "mimetype": "text/x-python",
   "name": "python",
   "nbconvert_exporter": "python",
   "pygments_lexer": "ipython3",
   "version": "3.9.13"
  }
 },
 "nbformat": 4,
 "nbformat_minor": 5
}
